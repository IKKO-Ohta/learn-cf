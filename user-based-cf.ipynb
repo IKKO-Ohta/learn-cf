{
 "cells": [
  {
   "cell_type": "code",
   "execution_count": 1,
   "metadata": {},
   "outputs": [],
   "source": [
    "import os\n",
    "import numpy as np  \n",
    "import pandas as pd"
   ]
  },
  {
   "cell_type": "code",
   "execution_count": 24,
   "metadata": {},
   "outputs": [
    {
     "output_type": "execute_result",
     "data": {
      "text/plain": "        User1  User2  User3  User4  User5  User6  User7  User8  User9  User10  \\\nJokeId                                                                          \n0        5.10  -8.79  -3.50   7.14  -8.79   9.22  -4.03   3.11  -3.64   -7.67   \n1        4.90  -0.87  -2.91  -3.88  -0.58   9.37  -1.55   0.92  -3.35   -5.15   \n2        1.75   1.99  -2.18  -3.06  -0.58  -3.93  -3.64   7.52  -6.46   -3.25   \n3       -4.17  -4.61  -0.10   0.05   8.98   9.27  -6.99   0.49  -3.40   -1.65   \n4        5.15   5.39   7.52   6.26   7.67   3.45   5.44  -0.58   1.26    4.03   \n\n        ...  User36701  User36702  User36703  User36704  User36705  User36706  \\\nJokeId  ...                                                                     \n0       ...        NaN        NaN        NaN        NaN        NaN        NaN   \n1       ...        NaN        NaN        NaN      -5.63        NaN      -6.07   \n2       ...        NaN        NaN        NaN        NaN        NaN       4.08   \n3       ...        NaN        NaN        NaN        NaN        NaN        NaN   \n4       ...       2.28      -0.49        5.1      -0.29      -3.54      -1.36   \n\n        User36707  User36708  User36709  User36710  \nJokeId                                              \n0             NaN        NaN       2.91        NaN  \n1             NaN      -1.60      -4.56        NaN  \n2             NaN        NaN       8.98        NaN  \n3             NaN        NaN        NaN        NaN  \n4            7.48      -5.78       0.73       2.62  \n\n[5 rows x 36710 columns]",
      "text/html": "<div>\n<style scoped>\n    .dataframe tbody tr th:only-of-type {\n        vertical-align: middle;\n    }\n\n    .dataframe tbody tr th {\n        vertical-align: top;\n    }\n\n    .dataframe thead th {\n        text-align: right;\n    }\n</style>\n<table border=\"1\" class=\"dataframe\">\n  <thead>\n    <tr style=\"text-align: right;\">\n      <th></th>\n      <th>User1</th>\n      <th>User2</th>\n      <th>User3</th>\n      <th>User4</th>\n      <th>User5</th>\n      <th>User6</th>\n      <th>User7</th>\n      <th>User8</th>\n      <th>User9</th>\n      <th>User10</th>\n      <th>...</th>\n      <th>User36701</th>\n      <th>User36702</th>\n      <th>User36703</th>\n      <th>User36704</th>\n      <th>User36705</th>\n      <th>User36706</th>\n      <th>User36707</th>\n      <th>User36708</th>\n      <th>User36709</th>\n      <th>User36710</th>\n    </tr>\n    <tr>\n      <th>JokeId</th>\n      <th></th>\n      <th></th>\n      <th></th>\n      <th></th>\n      <th></th>\n      <th></th>\n      <th></th>\n      <th></th>\n      <th></th>\n      <th></th>\n      <th></th>\n      <th></th>\n      <th></th>\n      <th></th>\n      <th></th>\n      <th></th>\n      <th></th>\n      <th></th>\n      <th></th>\n      <th></th>\n      <th></th>\n    </tr>\n  </thead>\n  <tbody>\n    <tr>\n      <th>0</th>\n      <td>5.10</td>\n      <td>-8.79</td>\n      <td>-3.50</td>\n      <td>7.14</td>\n      <td>-8.79</td>\n      <td>9.22</td>\n      <td>-4.03</td>\n      <td>3.11</td>\n      <td>-3.64</td>\n      <td>-7.67</td>\n      <td>...</td>\n      <td>NaN</td>\n      <td>NaN</td>\n      <td>NaN</td>\n      <td>NaN</td>\n      <td>NaN</td>\n      <td>NaN</td>\n      <td>NaN</td>\n      <td>NaN</td>\n      <td>2.91</td>\n      <td>NaN</td>\n    </tr>\n    <tr>\n      <th>1</th>\n      <td>4.90</td>\n      <td>-0.87</td>\n      <td>-2.91</td>\n      <td>-3.88</td>\n      <td>-0.58</td>\n      <td>9.37</td>\n      <td>-1.55</td>\n      <td>0.92</td>\n      <td>-3.35</td>\n      <td>-5.15</td>\n      <td>...</td>\n      <td>NaN</td>\n      <td>NaN</td>\n      <td>NaN</td>\n      <td>-5.63</td>\n      <td>NaN</td>\n      <td>-6.07</td>\n      <td>NaN</td>\n      <td>-1.60</td>\n      <td>-4.56</td>\n      <td>NaN</td>\n    </tr>\n    <tr>\n      <th>2</th>\n      <td>1.75</td>\n      <td>1.99</td>\n      <td>-2.18</td>\n      <td>-3.06</td>\n      <td>-0.58</td>\n      <td>-3.93</td>\n      <td>-3.64</td>\n      <td>7.52</td>\n      <td>-6.46</td>\n      <td>-3.25</td>\n      <td>...</td>\n      <td>NaN</td>\n      <td>NaN</td>\n      <td>NaN</td>\n      <td>NaN</td>\n      <td>NaN</td>\n      <td>4.08</td>\n      <td>NaN</td>\n      <td>NaN</td>\n      <td>8.98</td>\n      <td>NaN</td>\n    </tr>\n    <tr>\n      <th>3</th>\n      <td>-4.17</td>\n      <td>-4.61</td>\n      <td>-0.10</td>\n      <td>0.05</td>\n      <td>8.98</td>\n      <td>9.27</td>\n      <td>-6.99</td>\n      <td>0.49</td>\n      <td>-3.40</td>\n      <td>-1.65</td>\n      <td>...</td>\n      <td>NaN</td>\n      <td>NaN</td>\n      <td>NaN</td>\n      <td>NaN</td>\n      <td>NaN</td>\n      <td>NaN</td>\n      <td>NaN</td>\n      <td>NaN</td>\n      <td>NaN</td>\n      <td>NaN</td>\n    </tr>\n    <tr>\n      <th>4</th>\n      <td>5.15</td>\n      <td>5.39</td>\n      <td>7.52</td>\n      <td>6.26</td>\n      <td>7.67</td>\n      <td>3.45</td>\n      <td>5.44</td>\n      <td>-0.58</td>\n      <td>1.26</td>\n      <td>4.03</td>\n      <td>...</td>\n      <td>2.28</td>\n      <td>-0.49</td>\n      <td>5.1</td>\n      <td>-0.29</td>\n      <td>-3.54</td>\n      <td>-1.36</td>\n      <td>7.48</td>\n      <td>-5.78</td>\n      <td>0.73</td>\n      <td>2.62</td>\n    </tr>\n  </tbody>\n</table>\n<p>5 rows × 36710 columns</p>\n</div>"
     },
     "metadata": {},
     "execution_count": 24
    }
   ],
   "source": [
    "jokes = pd.read_csv(\"dataset_joke/JokeText.csv\")\n",
    "data = pd.read_csv(\"dataset_joke/UserRatings1.csv\", index_col=\"JokeId\")\n",
    "data.head()"
   ]
  },
  {
   "cell_type": "code",
   "execution_count": 25,
   "metadata": {},
   "outputs": [],
   "source": [
    "data = data.iloc[:, :5000]\n",
    "sums_of_col = data.sum(axis=1)\n",
    "col_size = len(data.columns)\n",
    "value = sums_of_col / col_size\n",
    "index_of_max = value[value == value.max()].index[0]\n"
   ]
  },
  {
   "cell_type": "code",
   "execution_count": 61,
   "metadata": {},
   "outputs": [
    {
     "output_type": "execute_result",
     "data": {
      "text/plain": "(5000, 5000)"
     },
     "metadata": {},
     "execution_count": 61
    }
   ],
   "source": [
    "# ユーザベクトル間のコサイン距離を求める\n",
    "# cosine_similarity/2 だけでなく、cosine_similarity/1 も用いることができる\n",
    "# `If Y is omitted the pairwise distances of the row vectors of X are calculated`\n",
    "# https://scikit-learn.org/stable/modules/metrics.html#cosine-similarity\n",
    "\n",
    "from sklearn.metrics.pairwise import cosine_similarity\n",
    "data = data.T\n",
    "filetering_cosim = cosine_similarity(data)\n",
    "filetering_cosim.shape\n",
    "\n"
   ]
  },
  {
   "cell_type": "code",
   "execution_count": 62,
   "metadata": {},
   "outputs": [
    {
     "output_type": "execute_result",
     "data": {
      "text/plain": "[4128, 4946, 3734, 1825, 2304, 2189, 474, 870, 543, 2137]"
     },
     "metadata": {},
     "execution_count": 62
    }
   ],
   "source": [
    "# 0番ユーザに最も近い10人を選び出す\n",
    "\n",
    "most_sim_users = sorted(list(enumerate(filetering_cosim[0])), key=lambda x: x[1], reverse=True)\n",
    "most_sim_users = most_sim_users[1:11]\n",
    "sim_users = [x[0] for x in most_sim_users]\n",
    "sim_users\n"
   ]
  },
  {
   "cell_type": "code",
   "execution_count": 63,
   "metadata": {},
   "outputs": [
    {
     "output_type": "execute_result",
     "data": {
      "text/plain": "<bound method NDFrame.head of JokeId      0     1     2     3     4     5     6     7     8     9   ...  \\\nUser4129  3.98  7.82  0.78 -1.60  1.99  1.17 -8.79  2.14  0.78  2.38  ...   \nUser4947  4.32  0.19  2.77 -0.97 -0.39  2.91 -2.48 -0.29  0.19  1.84  ...   \nUser3735 -0.24  0.15  2.14 -3.11 -3.69  3.20  1.12  0.39  0.34 -0.05  ...   \nUser1826  3.25  4.03  3.54 -1.26  3.16  2.96  1.70 -6.99  6.50  4.22  ...   \nUser2305  8.16  3.40  7.23 -5.39  4.03  6.65  7.23  6.84 -3.25 -5.39  ...   \nUser2190  9.22  3.69  9.08 -0.97  3.74  8.93  3.40  2.33  9.22  6.55  ...   \nUser475   8.88 -9.90  9.27  3.79 -8.64  9.03 -9.42  3.88  4.51  0.68  ...   \nUser871   6.46  1.84  8.88  0.19  3.11  2.04  7.67  7.18  5.24  8.20  ...   \nUser544   9.32  0.58  7.86  1.94  9.22 -0.05  4.03  2.28  3.20  4.03  ...   \nUser2138  4.71  9.22  9.22  5.87  8.88 -1.26 -9.37 -4.37  4.32  7.82  ...   \n\nJokeId      90    91    92    93    94    95    96    97    98    99  \nUser4129  6.02 -0.15 -9.56  1.07 -7.33 -1.99 -9.66 -0.73  3.40  3.06  \nUser4947  0.58 -4.47  3.16 -4.22 -4.17  3.50 -3.98  0.15  3.01  3.54  \nUser3735  4.71 -3.50  2.91  1.94 -3.83  3.06  3.11  1.41 -3.20  3.79  \nUser1826  6.99  2.48  5.58  3.59  3.59  6.36  0.05  6.26  6.02  7.48  \nUser2305  7.72  6.99  6.89  8.59  2.28  8.64  9.03  8.30  7.04  8.69  \nUser2190  3.30 -0.92  2.23  9.17  2.72  9.03  8.88  2.18  6.70  8.93  \nUser475   1.75  4.32  8.98  9.22 -0.68  4.66  4.66  4.08  9.08  9.27  \nUser871   4.42  7.28  7.28  7.28  7.38  7.38  7.38  6.99  3.50 -3.59  \nUser544   6.26 -0.39  5.58  9.08  6.94  7.72  8.64  6.41  4.61  8.35  \nUser2138  1.26  9.32  9.32  8.93  9.32  9.32  1.17  9.13  0.44  9.17  \n\n[10 rows x 100 columns]>"
     },
     "metadata": {},
     "execution_count": 63
    }
   ],
   "source": [
    "candidate_jokes = data.iloc[sim_users, :]\n",
    "candidate_jokes.head\n"
   ]
  },
  {
   "cell_type": "code",
   "execution_count": 66,
   "metadata": {},
   "outputs": [
    {
     "output_type": "execute_result",
     "data": {
      "text/plain": "JokeId\n71    6.776\n61    6.741\n55    6.736\n76    6.709\n34    6.664\n      ...  \n36   -1.728\n15   -4.679\n12   -5.461\n57   -5.994\n14   -7.077\nLength: 100, dtype: float64"
     },
     "metadata": {},
     "execution_count": 66
    }
   ],
   "source": [
    "## ジョークの出来の平均点を求めて、高い順に勧めれば良さそう\n",
    "mean_score = candidate_jokes.mean(axis=0)\n",
    "mean_score = mean_score.sort_values(axis=0, ascending=False)\n",
    "mean_score"
   ]
  },
  {
   "cell_type": "code",
   "execution_count": null,
   "metadata": {},
   "outputs": [],
   "source": [
    "## 一般化すると：\n",
    "def UBCF(user_num):\n",
    "    ## 近い嗜好の人上位10人を探す\n",
    "    most_sim_users =  sorted(list(enumerate(filetering_cosim[user_num])), key=lambda x: x[1], reverse=True)\n",
    "    most_sim_users = most_sim_users[1:11]\n",
    "\n",
    "    ## 各々のユーザidと、値を取り出す\n",
    "    sim_users = [x[0] for x in most_sim_users]\n",
    "    sim_value = [x[1] for x in most_sim_users]\n",
    "\n",
    "    ## ジョークごとの平均点を求める \n",
    "    candidate_jokes = data.iloc[sim_users, :]\n",
    "    mean_score = pd.Series(candidate_jokes.mean(axis=0))\n",
    "    mean_score = mean_score.sort_values(axis=0, ascending=False)\n",
    "\n",
    "    ## 平均点が高い順に勧める\n",
    "    recom_jokes = list(mean_score = mean_score.sort_values(axis=0, ascending=False))\n",
    "        for i in recom_jokes:\n",
    "        print(\"Index Number {} and Joke is {} :\".format(i,jokes.iloc[i,:]))\n",
    "    return(recom_jokes)\n",
    "    return\n"
   ]
  }
 ],
 "metadata": {
  "language_info": {
   "codemirror_mode": {
    "name": "ipython",
    "version": 3
   },
   "file_extension": ".py",
   "mimetype": "text/x-python",
   "name": "python",
   "nbconvert_exporter": "python",
   "pygments_lexer": "ipython3",
   "version": 3
  },
  "orig_nbformat": 2,
  "kernelspec": {
   "name": "python_defaultSpec_1596806117921",
   "display_name": "Python 3.7.3 64-bit"
  }
 },
 "nbformat": 4,
 "nbformat_minor": 2
}